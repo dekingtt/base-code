{
 "cells": [
  {
   "cell_type": "code",
   "execution_count": null,
   "metadata": {},
   "outputs": [],
   "source": [
    "class Person():\n",
    "    def __init__(self, value) -> None:\n",
    "        self.hidden_name = value\n",
    "\n",
    "    #getter \n",
    "    def get_name(self):\n",
    "        return self.hidden_name\n",
    "\n",
    "    #setter\n",
    "    def set_name(self, value):\n",
    "        self.hidden_name = value\n",
    "\n",
    "    #delete\n",
    "    def del_name(self):\n",
    "        del self.hidden_name\n",
    "\n",
    "    name = property(get_name, set_name, del_name, doc='name of the person')\n",
    "\n",
    "p = Person('Bob')\n",
    "print(p.name)\n",
    "\n",
    "p.name = 'Sam'\n",
    "print(\"doc\", Person.name.__doc__)\n",
    "del p.name"
   ]
  },
  {
   "cell_type": "code",
   "execution_count": null,
   "metadata": {},
   "outputs": [],
   "source": [
    "class Person():\n",
    "    def __init__(self, value) -> None:\n",
    "        self.hidden_name = value\n",
    "\n",
    "    @property\n",
    "    def name(self):\n",
    "        return self.hidden_name\n",
    "    \n",
    "    @name.setter\n",
    "    def name(self, value):\n",
    "        if not isinstance(value, str):\n",
    "            raise TypeError('Expected a string')\n",
    "        self.hidden_name = value\n",
    "\n",
    "    @name.deleter\n",
    "    def name(self):\n",
    "        raise AttributeError(\"Can not delet attribute\")\n",
    "\n",
    "p = Person('Bob')\n",
    "print(p.name)\n",
    "p.name = 'Sam'\n",
    "#del p.name\n",
    "#p.name = 2"
   ]
  },
  {
   "cell_type": "code",
   "execution_count": null,
   "metadata": {},
   "outputs": [],
   "source": [
    "class Rectangle(object):\n",
    "    def __init__(self, width, height) -> None:\n",
    "        super().__init__()\n",
    "        self.wifth = width\n",
    "        self.height = height\n",
    "\n",
    "    @property\n",
    "    def area(self):\n",
    "        return self.wifth*self.height\n",
    "\n",
    "r = Rectangle(2,3)\n",
    "print(r.area)"
   ]
  },
  {
   "cell_type": "code",
   "execution_count": null,
   "metadata": {},
   "outputs": [],
   "source": [
    "class SubPerson(Person):\n",
    "    @Person.name.setter\n",
    "    def name(self, value):\n",
    "        print('Inside subperson setter')\n",
    "        super(SubPerson, SubPerson).name.__set__(self, value)\n",
    "\n",
    "\n",
    "sp = SubPerson(\"Tom\")\n",
    "print(sp.name)"
   ]
  }
 ],
 "metadata": {
  "interpreter": {
   "hash": "593d114b5a37efc49ac6bd5496f0496027154ecfb36472b8cce6beb026f23cc8"
  },
  "kernelspec": {
   "display_name": "Python 3.9.6 64-bit",
   "language": "python",
   "name": "python3"
  },
  "language_info": {
   "codemirror_mode": {
    "name": "ipython",
    "version": 3
   },
   "file_extension": ".py",
   "mimetype": "text/x-python",
   "name": "python",
   "nbconvert_exporter": "python",
   "pygments_lexer": "ipython3",
   "version": "3.9.6"
  },
  "orig_nbformat": 4
 },
 "nbformat": 4,
 "nbformat_minor": 2
}
