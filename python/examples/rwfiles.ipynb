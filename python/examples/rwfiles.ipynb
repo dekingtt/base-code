{
 "cells": [
  {
   "cell_type": "markdown",
   "metadata": {},
   "source": [
    "# Txt"
   ]
  },
  {
   "cell_type": "code",
   "execution_count": null,
   "metadata": {},
   "outputs": [],
   "source": [
    "f = open('test.temp', 'w')\n",
    "f.write(\"Over write existing data.\\n\")\n",
    "f.close()\n",
    "\n",
    "f = open('test.temp', 'a')\n",
    "f.write(\" Append this text\")\n",
    "f.close()\n",
    "\n",
    "f = open('test.temp', 'r')\n",
    "\n",
    "#print(f.read())\n",
    "print(f.readline())\n",
    "\n",
    "for line in f:\n",
    "    print(line)\n",
    "\n",
    "f.close()\n",
    "f = open('test2.temp', 'w')\n",
    "f.writelines(['new line 1\\n','new line 2\\n','new line 3\\n','new line 4\\n'])\n",
    "f.flush()\n",
    "\n",
    "f.close\n",
    "\n",
    "with open('test2.temp') as f:\n",
    "    print(f.read())\n"
   ]
  },
  {
   "cell_type": "code",
   "execution_count": null,
   "metadata": {},
   "outputs": [],
   "source": [
    "import os\n",
    "try:\n",
    "    os.remove(\"test.temp\")\n",
    "    os.remove(\"test2.temp\")\n",
    "except Exception as e:\n",
    "    print(e)\n",
    "\n",
    "if os.path.isfile('../../.gitignore'):\n",
    "    print(\"existing\")\n",
    "else:\n",
    "    print(\"not found\")"
   ]
  },
  {
   "cell_type": "markdown",
   "metadata": {},
   "source": [
    "# CSV"
   ]
  },
  {
   "cell_type": "code",
   "execution_count": null,
   "metadata": {},
   "outputs": [],
   "source": [
    "import csv\n",
    "\n",
    "with open(\"mfile.csv\", 'w') as f:\n",
    "    writer = csv.writer(f)\n",
    "    writer.writerow(['Bob', '25', 'Manager', 'Seattle'])\n",
    "    writer.writerow(['Sam', '30', 'Developer', 'New York'])\n",
    "    f.flush()\n",
    "\n",
    "with open('mfile.csv', 'r') as f:\n",
    "    # read\n",
    "    reader = csv.reader(f)\n",
    "    for row in reader:\n",
    "        print(row)\n",
    "    f.seek(0)\n",
    "    reader2 = csv.DictReader(f)\n",
    "    for row in reader2:\n",
    "        print(row)\n",
    "\n"
   ]
  },
  {
   "cell_type": "code",
   "execution_count": null,
   "metadata": {},
   "outputs": [],
   "source": [
    "import csv\n",
    "\n",
    "with open('myfile.csv', mode='w') as f:\n",
    "    writer = csv.writer(f, quotechar='\"')\n",
    "    writer.writerow(['Bob', '25', '113 Cherry St, Seattle, WA 98104, USA'])\n",
    "    writer.writerow(['Sam', '30', '150 Greene St, New York, NY 10012, USA'])\n",
    "\n",
    "with open('myfile.csv') as f:\n",
    "    reader = csv.reader(f, quotechar='\"')\n",
    "    for row in reader:\n",
    "        print(row)"
   ]
  },
  {
   "cell_type": "code",
   "execution_count": null,
   "metadata": {},
   "outputs": [],
   "source": [
    "import csv, sys\n",
    "filename = 'myfile.csv'\n",
    "with open(filename, newline='') as f:\n",
    "    reader = csv.reader(f)\n",
    "    try:\n",
    "        for row in reader:\n",
    "            print(row)\n",
    "    except csv.Error as e:\n",
    "        sys.exit('file {}, line {}: {}'.format(filename, reader.line_num, e))"
   ]
  }
 ],
 "metadata": {
  "interpreter": {
   "hash": "593d114b5a37efc49ac6bd5496f0496027154ecfb36472b8cce6beb026f23cc8"
  },
  "kernelspec": {
   "display_name": "Python 3.9.6 64-bit",
   "language": "python",
   "name": "python3"
  },
  "language_info": {
   "codemirror_mode": {
    "name": "ipython",
    "version": 3
   },
   "file_extension": ".py",
   "mimetype": "text/x-python",
   "name": "python",
   "nbconvert_exporter": "python",
   "pygments_lexer": "ipython3",
   "version": "3.9.6"
  },
  "orig_nbformat": 4
 },
 "nbformat": 4,
 "nbformat_minor": 2
}
