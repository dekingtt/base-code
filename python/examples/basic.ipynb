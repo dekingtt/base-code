{
 "cells": [
  {
   "cell_type": "markdown",
   "metadata": {},
   "source": [
    "# Numbers"
   ]
  },
  {
   "cell_type": "code",
   "execution_count": null,
   "metadata": {},
   "outputs": [],
   "source": [
    "x = 10\n",
    "y = -10\n",
    "z = 123456789\n",
    "\n",
    "print(0b1011)\n",
    "print(0o456)\n",
    "print(0xFF33)\n",
    "\n",
    "x = True\n",
    "y = False\n",
    "\n",
    "x= 3+4j\n",
    "\n",
    "print(5e60)\n",
    "\n",
    "print(x.real)\n",
    "print(x.imag)\n",
    "\n",
    "print(2**3)\n",
    "print(8//3)\n",
    "\n",
    "print(8>>1)"
   ]
  },
  {
   "cell_type": "markdown",
   "metadata": {},
   "source": [
    "## Operation"
   ]
  },
  {
   "cell_type": "code",
   "execution_count": null,
   "metadata": {},
   "outputs": [],
   "source": [
    "x=2\n",
    "y=-2\n",
    "print(x>0 and y>0)\n",
    "\n",
    "a = [1,2,3]\n",
    "b = [1,2,3]\n",
    "print( a is y)\n",
    "\n",
    "L = [\"red\", \"green\", \"blue\"]\n",
    "# in\n",
    "print(\"red\" in L)\n",
    "\n",
    "print(\"yellow\" not in L)"
   ]
  },
  {
   "cell_type": "markdown",
   "metadata": {},
   "source": [
    "# List"
   ]
  },
  {
   "cell_type": "code",
   "execution_count": null,
   "metadata": {},
   "outputs": [],
   "source": [
    "L = [1,2,3]\n",
    "L2 = [\"a\", \"b\", \"c\", True, 3.15]\n",
    "\n",
    "print(L2)\n",
    "\n",
    "L = list('abc')\n",
    "print(L)\n",
    "\n",
    "L =list((1,2,3))\n",
    "print(L)\n",
    "\n",
    "print(L[0])\n",
    "\n",
    "#print(L[10])\n",
    "\n",
    "print(L[-1])\n",
    "\n",
    "L = ['a','b','c','d','e','f']\n",
    "print(L[3: -1])\n",
    "\n",
    "L[-2]='x'\n",
    "print(L)\n",
    "\n",
    "L.append(\"y\")\n",
    "\n",
    "L.insert(2, 'z')\n",
    "\n",
    "print(L)\n",
    "\n",
    "L.extend([1,2,3])\n",
    "\n",
    "print(L)\n",
    "\n",
    "print(L[0:3] + [4,5,6])\n",
    "\n",
    "x= L.pop(1)\n",
    "\n",
    "print(L)\n",
    "print(x)\n",
    "\n",
    "del L[5:]\n",
    "print(L)\n",
    "\n",
    "L.remove('z')\n",
    "print(L)\n",
    "\n",
    "L.clear()\n",
    "print(L)\n",
    "\n",
    "L = ['red']\n",
    "L = L*3\n",
    "print(L)\n",
    "\n",
    "print(len(L))\n",
    "\n",
    "print('red' in L)\n",
    "\n",
    "print('yellow' in L)\n",
    "\n",
    "for item in L:\n",
    "    print(item)\n",
    "\n",
    "L = [1,2,3,4]\n",
    "\n",
    "for i in range(len(L)):\n",
    "    L[i] = L[i]*2\n",
    "print(L)"
   ]
  },
  {
   "cell_type": "markdown",
   "metadata": {},
   "source": [
    "## List slicing"
   ]
  },
  {
   "cell_type": "code",
   "execution_count": null,
   "metadata": {},
   "outputs": [],
   "source": [
    "L = [1,2,3,4,5,6,7,8,9]\n",
    "print(L[1:8:2])\n",
    "\n",
    "print(L[::-1])\n",
    "\n",
    "L[1:4]=['a','b','c']\n",
    "print(L)\n",
    "\n",
    "L[:0]=['red','blue']\n",
    "print(L)\n",
    "\n",
    "L[0:4]=[]\n",
    "print(L)"
   ]
  },
  {
   "cell_type": "markdown",
   "metadata": {},
   "source": [
    "## List comprehension"
   ]
  },
  {
   "cell_type": "code",
   "execution_count": null,
   "metadata": {},
   "outputs": [],
   "source": [
    "L = []\n",
    "for x in range(5):\n",
    "    L.append(x**2)\n",
    "\n",
    "print(L)\n",
    "\n",
    "L = [x**3 for x in range(5)]\n",
    "print(L)\n",
    "\n",
    "L =[x*3 for x in 'red']\n",
    "print(L)\n",
    "\n",
    "L = [(x, x**2) for x in range(5)]\n",
    "print(L)\n",
    "\n",
    "vec = [-4, 3,0,-2,-1]\n",
    "L = [x*2 for x in vec if x>0]\n",
    "print(L)\n",
    "\n",
    "vec =[[1,2,3],[4,5,6],[7,8,9]]\n",
    "L = [number for list in vec for number in list]\n",
    "print(L)\n",
    "\n",
    "L = [[row[i] for row in vec] for i in range(3)]\n",
    "print(L)\n",
    "\n",
    "L = [ord(x) for x in 'foo']\n",
    "print(L)\n",
    "\n",
    "L = list(map(ord, 'foo'))\n",
    "print(L)\n",
    "\n",
    "L = [x**2 for x in range(5)]\n",
    "print(L)\n",
    "\n",
    "L = list(map(lambda x: x**2, range(5)))\n",
    "print(L)\n",
    "\n",
    "L = [x for x in range(10) if x%2==0]\n",
    "print(L)\n",
    "\n",
    "L = list(filter(lambda x: x%2==0, range(10)))\n",
    "print(L)"
   ]
  },
  {
   "cell_type": "markdown",
   "metadata": {},
   "source": [
    "# Tuple"
   ]
  },
  {
   "cell_type": "code",
   "execution_count": null,
   "metadata": {},
   "outputs": [],
   "source": [
    "T = (1,2,3)\n",
    "T2 = ('red', 'green', 'blue')\n",
    "T3 = (1,'2',3,'4')\n",
    "print(T)\n",
    "print(T2)\n",
    "print(T3)\n",
    "\n",
    "T4 = 1,'abc',456\n",
    "print(T4)\n",
    "\n",
    "T=(4,)\n",
    "print(type(T))\n",
    "\n",
    "T1 = tuple([1,2,3])\n",
    "T2 = tuple('abc')\n",
    "print(T1)\n",
    "print(T2)\n",
    "\n",
    "T3 = ('red', ('green', 'blue'), 'yellow')\n",
    "print(T3)\n",
    "\n",
    "T = (1,2,3,4)\n",
    "print(T)\n",
    "\n",
    "(a,b,c,d) = T\n",
    "print(a)\n",
    "\n",
    "a=1\n",
    "b=2\n",
    "b,a = a,b\n",
    "print(a)\n",
    "print(b)\n",
    "\n",
    "addr = 'test@python.com'\n",
    "user, domain = addr.split(\"@\")\n",
    "print(user)\n",
    "print(domain)\n",
    "\n",
    "print(T[2:-1])\n",
    "\n",
    "del T\n",
    "\n",
    "T = (1,2,3)+('a','b','c')\n",
    "print(T)\n",
    "\n",
    "T = ('red',)*3\n",
    "print(T)\n",
    "\n",
    "for item in T1:\n",
    "    print(item)\n",
    "\n",
    "T2 = ('cc','dd', 'dr', 'aa')\n",
    "print(sorted(T2))\n",
    "\n",
    "L = list(T2)\n",
    "L.sort()\n",
    "T =tuple(L)\n",
    "print(T)"
   ]
  },
  {
   "cell_type": "markdown",
   "metadata": {},
   "source": [
    "# Set"
   ]
  },
  {
   "cell_type": "code",
   "execution_count": null,
   "metadata": {},
   "outputs": [],
   "source": [
    "S = {'red', 'green', 'blue', 'red'}\n",
    "print(S)\n",
    "\n",
    "S=set('abc')\n",
    "print(S)\n",
    "\n",
    "print(set([1,2,3]))\n",
    "\n",
    "S.add(\"yellow\")\n",
    "\n",
    "print(S)\n",
    "\n",
    "S.remove('b')\n",
    "print(S)\n",
    "\n",
    "S.discard('yellow')\n",
    "print(S)\n",
    "\n",
    "x=S.pop()\n",
    "print(x)\n",
    "\n",
    "S={'red', 'green', 'blue'}\n",
    "for item in S:\n",
    "    print(item)\n",
    "\n",
    "print(\"yellow\" in S)\n",
    "S1 = {\"yellow\", 'red', 'orange'}\n",
    "print(S|S1)\n",
    "\n",
    "print(S.union(S1))\n",
    "\n",
    "print(S & S1)\n",
    "print (S.intersection(S1))\n",
    "\n",
    "print(S -S1)\n",
    "print(S.difference(S1))\n",
    "\n",
    "print(S^S1)\n",
    "print(S.symmetric_difference(S1))"
   ]
  },
  {
   "cell_type": "markdown",
   "metadata": {},
   "source": [
    "# Dictionary"
   ]
  },
  {
   "cell_type": "code",
   "execution_count": null,
   "metadata": {},
   "outputs": [],
   "source": [
    "D1 = {'name':'Bob',\n",
    "'age': 25,\n",
    "'job': 'Dev',\n",
    "'city': 'New Yark',\n",
    "'email': 'bob@web.com'}\n",
    "\n",
    "print(D1)\n",
    "\n",
    "L = [('name', 'Bob'), ('age', 99)]\n",
    "D2 = dict(L)\n",
    "print(D2)\n",
    "\n",
    "D=dict(name='bob', age=25, job='dev')\n",
    "print(D)\n",
    "\n",
    "keys = ['a','b','c','d']\n",
    "values = [1,2,3,4]\n",
    "\n",
    "D = dict(zip(keys,values))\n",
    "print(D)\n",
    "\n",
    "defaultvale = 3\n",
    "print(dict.fromkeys(keys, defaultvale))\n",
    "\n",
    "D1.update(D2)\n",
    "print(D1)\n",
    "X = D1.popitem()\n",
    "print(X)\n",
    "\n",
    "print(D.keys())\n",
    "\n",
    "for x in D1:\n",
    "    print(x)\n",
    "    print(D1[x])\n",
    "\n",
    "print('name' in D1)\n",
    "print(99 in D1.values())"
   ]
  },
  {
   "cell_type": "markdown",
   "metadata": {},
   "source": [
    "## Dict comprehension"
   ]
  },
  {
   "cell_type": "code",
   "execution_count": null,
   "metadata": {},
   "outputs": [],
   "source": [
    "D ={}\n",
    "for x in range(5):\n",
    "    D[x] = x**2\n",
    "print(D)\n",
    "\n",
    "D1 = {x: x**2 for x in range(5)}\n",
    "print(D1)\n",
    "\n",
    "L = ['ReD', 'GrEeN', 'BlUe']\n",
    "D = {c.lower(): c.upper() for c in L}\n",
    "print(D)\n",
    "\n",
    "selectedKeys = ['red']\n",
    "\n",
    "D1 = {k:D[k] for k in selectedKeys}\n",
    "print(D1)\n",
    "\n",
    "D1 = {k:D[k] for k in D.keys() - selectedKeys}\n",
    "print(D1)\n",
    "\n",
    "print({v:k for k,v in D.items()})\n",
    "\n",
    "L = ['red', 'green', 'blue']\n",
    "print({k:v for k,v in enumerate(L)})\n",
    "\n",
    "print({x:x**3 for x in range(6) if x%2==0})\n",
    "\n",
    "print({(k,v):k+v for k in range(2) for v in range(2)})"
   ]
  },
  {
   "cell_type": "markdown",
   "metadata": {},
   "source": [
    "# String"
   ]
  },
  {
   "cell_type": "code",
   "execution_count": null,
   "metadata": {},
   "outputs": [],
   "source": [
    "S = \"\"\"String line can \n",
    "span multiple lines\"\"\"\n",
    "\n",
    "print(S)\n",
    "\n",
    "print(str(42))\n",
    "print(str([1,2]))\n",
    "\n",
    "print(S[-3])\n",
    "print(S[3:9])\n",
    "\n",
    "S1 = 'hello world!'\n",
    "print('PY ' + S1[0:])\n",
    "\n",
    "S2 = S1.replace(\"world\", \"python\")\n",
    "print(S2)\n",
    "\n",
    "x = 'red,green,blue,orange'.split(',')\n",
    "for v in x:\n",
    "    print(v)\n",
    "\n",
    "print(' - '.join(x).capitalize().swapcase())\n",
    "print(S.title())\n",
    "\n",
    "S3 = r'C:\\windows\\system32'\n",
    "print(S3)\n",
    "\n",
    "S4 = '%s is %d years old' % ('Bob', 25)\n",
    "S5 = \"{1} is {0} years old\".format(25, 'Bob')\n",
    "print(S4)\n",
    "print(S5)"
   ]
  },
  {
   "cell_type": "markdown",
   "metadata": {},
   "source": [
    "# Exprestion"
   ]
  },
  {
   "cell_type": "markdown",
   "metadata": {},
   "source": [
    "## If..Else..Elif"
   ]
  },
  {
   "cell_type": "code",
   "execution_count": null,
   "metadata": {},
   "outputs": [],
   "source": [
    "x,y = 5,5\n",
    "\n",
    "if x>y:\n",
    "    print('x is greater')\n",
    "elif y>x:\n",
    "    print('y is greater')\n",
    "else:\n",
    "    print('x equal y')\n",
    "\n",
    "x, y = 7,5\n",
    "max = x if x>y else y\n",
    "print(max)"
   ]
  },
  {
   "cell_type": "markdown",
   "metadata": {},
   "source": [
    "## While"
   ]
  },
  {
   "cell_type": "code",
   "execution_count": null,
   "metadata": {},
   "outputs": [],
   "source": [
    "x = 6\n",
    "while x:\n",
    "    print(x)\n",
    "    x -= 1\n",
    "else:\n",
    "    print('Done')"
   ]
  },
  {
   "cell_type": "markdown",
   "metadata": {},
   "source": [
    "## for"
   ]
  },
  {
   "cell_type": "code",
   "execution_count": null,
   "metadata": {},
   "outputs": [],
   "source": [
    "col = 'red,blue,green,yellow'.split(',')\n",
    "\n",
    "for x in col:\n",
    "    print(x)\n",
    "else:\n",
    "    print('done')\n",
    "\n",
    "for i, v in enumerate(col):\n",
    "    print(i, v)\n",
    "\n",
    "for x in col[:]:\n",
    "    if x == 'green':\n",
    "        col.insert(1,'black')\n",
    "print(col)"
   ]
  },
  {
   "cell_type": "markdown",
   "metadata": {},
   "source": [
    "# Functions"
   ]
  },
  {
   "cell_type": "code",
   "execution_count": null,
   "metadata": {},
   "outputs": [],
   "source": [
    "def func(name, job):\n",
    "    print(name, 'is a', job)\n",
    "\n",
    "func(\"tom\", \"dev\")\n",
    "\n",
    "def print_args(*args):\n",
    "    print(args)\n",
    "print_args(1,2,3,4)\n",
    "\n",
    "def print_arguments(**kwargs):\n",
    "    \"\"\" THIS IS DOC OF \n",
    "    print_arguments function\"\"\"\n",
    "    print(kwargs)\n",
    "\n",
    "print_arguments(name='Tome', age=26)\n",
    "\n",
    "help(print_arguments)\n",
    "print(print_arguments.__doc__)\n",
    "\n",
    "def outer(a,b):\n",
    "    def inner(c,d):\n",
    "        return c+d\n",
    "    return inner(a,b)\n",
    "\n",
    "print(outer(4,5))\n",
    "\n",
    "def cutdown(num):\n",
    "    if num <=0:\n",
    "        print(\"stop\")\n",
    "    else:\n",
    "        print(num)\n",
    "        cutdown(num-1)\n",
    "\n",
    "cutdown(5)\n",
    "\n",
    "cd = cutdown\n",
    "cd(3)\n",
    "\n",
    "x = 42\n",
    "def myfunc():\n",
    "    global x\n",
    "    x = 0\n",
    "    print(x)\n",
    "\n",
    "myfunc()\n",
    "print(x)\n",
    "\n",
    "def f1():\n",
    "    x=99\n",
    "    def f2():\n",
    "        nonlocal x \n",
    "        x=88\n",
    "        print(x)\n",
    "    f2()\n",
    "    print(x)\n",
    "\n",
    "f1()"
   ]
  },
  {
   "cell_type": "markdown",
   "metadata": {},
   "source": [
    "## lambda"
   ]
  },
  {
   "cell_type": "code",
   "execution_count": null,
   "metadata": {},
   "outputs": [],
   "source": [
    "double = lambda x:x*2\n",
    "print(double(5))\n",
    "\n",
    "print((lambda x: 'odd' if x%2 else 'even')(6))\n",
    "\n",
    "print((lambda *args: sum(args))(1,2,3,4,5))\n",
    "\n",
    "L = [1,2,3,4,5,6]\n",
    "doubler = map(lambda x: x*2, L)\n",
    "print(list(doubler))\n",
    "\n",
    "age = [5, 11, 16, 19, 24, 42]\n",
    "adults = filter(lambda x: x>=18, age)\n",
    "print(list(adults))\n",
    "\n",
    "from functools import reduce\n",
    "L = [10,20,30,40]\n",
    "result = reduce(lambda a,b: a+b, L)\n",
    "print(result)\n",
    "\n",
    "findMin = lambda x, y: x if x<=y else y\n",
    "print(findMin(6,2))\n",
    "\n",
    "L = [('Sam', 35),('Max', 25), ('Bob', 30)]\n",
    "x = sorted(L, key=lambda s: s[1])\n",
    "print(x)"
   ]
  },
  {
   "cell_type": "markdown",
   "metadata": {},
   "source": [
    "### Decorating a lambda"
   ]
  },
  {
   "cell_type": "code",
   "execution_count": null,
   "metadata": {},
   "outputs": [],
   "source": [
    "from functools import wraps\n",
    "\n",
    "# defining a decorator\n",
    "def debug(func):\n",
    "    @wraps(func)\n",
    "    def wrapper(*args, **kwargs):\n",
    "        result = func(*args)\n",
    "        print(f\"[DEBUG] Calling {func.__name__} with argument {args} | Result: {result}\")\n",
    "        return result\n",
    "    return wrapper\n",
    "\n",
    "# apply docorator to hell()\n",
    "@debug\n",
    "def hello(name):\n",
    "    return \"hello \" + name\n",
    "\n",
    "print(hello(\"Bob\"))\n",
    "\n",
    "print ((debug(lambda x: x**2))(3))"
   ]
  },
  {
   "cell_type": "markdown",
   "metadata": {},
   "source": [
    "### lambda closures"
   ]
  },
  {
   "cell_type": "code",
   "execution_count": null,
   "metadata": {},
   "outputs": [],
   "source": [
    "def multiplier(x):\n",
    "    def inner_func(y):\n",
    "        return x*y\n",
    "    return inner_func\n",
    "doubler = multiplier(2)\n",
    "print(doubler(10))\n",
    "\n",
    "multiplier_lambada = (lambda x: (lambda y: x*y))\n",
    "doubler_l = multiplier_lambada(2)\n",
    "print(doubler_l(10))"
   ]
  },
  {
   "cell_type": "markdown",
   "metadata": {},
   "source": [
    "# Exception"
   ]
  },
  {
   "cell_type": "code",
   "execution_count": null,
   "metadata": {},
   "outputs": [],
   "source": [
    "try:\n",
    "    x = 1/0\n",
    "except (ZeroDivisionError, ValueError):\n",
    "    print('devide by zero or value error')\n",
    "except Exception as e:\n",
    "    print('something went wrong')\n",
    "    print(e)\n",
    "else:\n",
    "    print(\"every is fine\")\n",
    "finally:\n",
    "    print(\"aways go here\")\n"
   ]
  },
  {
   "cell_type": "code",
   "execution_count": null,
   "metadata": {},
   "outputs": [],
   "source": [
    "class InputError(Exception):\n",
    "    pass\n",
    "\n",
    "raise InputError('Custome exception')"
   ]
  }
 ],
 "metadata": {
  "interpreter": {
   "hash": "593d114b5a37efc49ac6bd5496f0496027154ecfb36472b8cce6beb026f23cc8"
  },
  "kernelspec": {
   "display_name": "Python 3.9.6 64-bit",
   "language": "python",
   "name": "python3"
  },
  "language_info": {
   "codemirror_mode": {
    "name": "ipython",
    "version": 3
   },
   "file_extension": ".py",
   "mimetype": "text/x-python",
   "name": "python",
   "nbconvert_exporter": "python",
   "pygments_lexer": "ipython3",
   "version": "3.9.6"
  },
  "orig_nbformat": 4
 },
 "nbformat": 4,
 "nbformat_minor": 2
}
