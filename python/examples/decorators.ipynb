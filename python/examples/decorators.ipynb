{
 "cells": [
  {
   "cell_type": "code",
   "execution_count": null,
   "metadata": {},
   "outputs": [],
   "source": [
    "def decorate_it(func):\n",
    "    def wrapper():\n",
    "        print(\"Before function call\")\n",
    "        func()\n",
    "        print(\"After fucntion call\")\n",
    "    return wrapper\n",
    "\n",
    "def hello():\n",
    "    print(\"Hello World!\")\n",
    "\n",
    "hello = decorate_it(hello)\n",
    "\n",
    "hello()"
   ]
  },
  {
   "cell_type": "code",
   "execution_count": null,
   "metadata": {},
   "outputs": [],
   "source": [
    "@decorate_it\n",
    "def myfunc():\n",
    "    print('1+1', 1+1)\n",
    "\n",
    "myfunc()"
   ]
  },
  {
   "cell_type": "code",
   "execution_count": null,
   "metadata": {},
   "outputs": [],
   "source": [
    "def decorate_it(func):\n",
    "    def wrapper(*args, **kwargs):\n",
    "        print(\"Before...\")\n",
    "        func(*args, **kwargs)\n",
    "        print(\"After..\")\n",
    "    return wrapper\n",
    "@decorate_it\n",
    "def _hello(name):\n",
    "    print(\"hello\", name)\n",
    "\n",
    "_hello('Bob')\n",
    "\n",
    "@decorate_it\n",
    "def hello(name):\n",
    "    return 'hello' + name\n",
    "\n",
    "res = hello(\"Tom\")\n",
    "\n",
    "print(res)"
   ]
  },
  {
   "cell_type": "code",
   "execution_count": null,
   "metadata": {},
   "outputs": [],
   "source": [
    "def decorate_it(func):\n",
    "    def wrapper(*args, **kwargs):\n",
    "        print(\"Before...\")\n",
    "        result = func(*args, **kwargs)\n",
    "        print(\"After..\")\n",
    "        return result\n",
    "    return wrapper\n",
    "\n",
    "@decorate_it\n",
    "def hello(name):\n",
    "    return 'hello ' + name\n",
    "\n",
    "res = hello(\"Tom\")\n",
    "\n",
    "print(res)"
   ]
  },
  {
   "cell_type": "code",
   "execution_count": null,
   "metadata": {},
   "outputs": [],
   "source": [
    "def decorate_it(func):\n",
    "    def wrapper():\n",
    "        print(\"Before function call\")\n",
    "        func()\n",
    "        print(\"After function call\")\n",
    "    return wrapper\n",
    "\n",
    "@decorate_it\n",
    "def hello():\n",
    "    '''function that greets'''\n",
    "    print(\"Hello world\")\n",
    "\n",
    "print(hello.__name__)\n",
    "print(hello.__doc__)\n",
    "print(hello)"
   ]
  },
  {
   "cell_type": "code",
   "execution_count": null,
   "metadata": {},
   "outputs": [],
   "source": [
    "from functools import wraps\n",
    "\n",
    "def decorate_it(func):\n",
    "    @wraps(func)\n",
    "    def wrapper():\n",
    "        print(\"before .. \")\n",
    "        func()\n",
    "        print(\"after .. \")\n",
    "    return wrapper\n",
    "\n",
    "@decorate_it\n",
    "def hello():\n",
    "    '''function that greets'''\n",
    "    print(\"Hello world\")\n",
    "\n",
    "print(hello.__name__)\n",
    "print(hello.__doc__)\n",
    "print(hello)\n",
    "\n",
    "\n",
    "original_hello = hello.__wrapped__\n",
    "original_hello()"
   ]
  },
  {
   "cell_type": "code",
   "execution_count": null,
   "metadata": {},
   "outputs": [],
   "source": [
    "from functools import wraps\n",
    "\n",
    "def double_it(func):\n",
    "    @wraps(func)\n",
    "    def wrapper(*args, **kwargs):\n",
    "        result = func(*args, **kwargs)\n",
    "        return result *2\n",
    "    return wrapper\n",
    "\n",
    "def square_it(func):\n",
    "    @wraps(func)\n",
    "    def wrapper(*args, **kwargs):\n",
    "        result = func(*args, **kwargs)\n",
    "        return result*result\n",
    "    return wrapper\n",
    "\n",
    "@double_it\n",
    "@square_it\n",
    "def add(a,b):\n",
    "    return a+b\n",
    "\n",
    "print(add(3,2))\n",
    "\n",
    "\n",
    "@square_it\n",
    "@double_it\n",
    "def _add(a,b):\n",
    "    return a+b\n",
    "\n",
    "print(_add(3,2))\n",
    "\n",
    "double_the_sum = double_it(sum)\n",
    "\n",
    "print(double_the_sum([1,2]))"
   ]
  },
  {
   "cell_type": "code",
   "execution_count": null,
   "metadata": {},
   "outputs": [],
   "source": [
    "import time\n",
    "from functools import wraps\n",
    "\n",
    "def timer(func):\n",
    "    @wraps(func)\n",
    "    def wrapper(*args, **kwargs):\n",
    "        start = time.time()\n",
    "        result = func(*args, **kwargs)\n",
    "        end = time.time()\n",
    "        print(\"Finished in {:.3f} secs\".format(end-start))\n",
    "        return result\n",
    "    return wrapper\n",
    "\n",
    "@timer \n",
    "def countdown(n):\n",
    "    while n>0:\n",
    "        n -= 1\n",
    "\n",
    "countdown(10000)\n",
    "countdown(1000000)"
   ]
  }
 ],
 "metadata": {
  "interpreter": {
   "hash": "593d114b5a37efc49ac6bd5496f0496027154ecfb36472b8cce6beb026f23cc8"
  },
  "kernelspec": {
   "display_name": "Python 3.9.6 64-bit",
   "language": "python",
   "name": "python3"
  },
  "language_info": {
   "codemirror_mode": {
    "name": "ipython",
    "version": 3
   },
   "file_extension": ".py",
   "mimetype": "text/x-python",
   "name": "python",
   "nbconvert_exporter": "python",
   "pygments_lexer": "ipython3",
   "version": "3.9.6"
  },
  "orig_nbformat": 4
 },
 "nbformat": 4,
 "nbformat_minor": 2
}
