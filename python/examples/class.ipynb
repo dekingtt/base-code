{
 "cells": [
  {
   "cell_type": "markdown",
   "metadata": {},
   "source": [
    "# Class"
   ]
  },
  {
   "cell_type": "code",
   "execution_count": null,
   "metadata": {},
   "outputs": [],
   "source": [
    "class Car:\n",
    "    wheels = 4\n",
    "    # initializer\n",
    "    def __init__(self, color, style) -> None:\n",
    "        self.color = color\n",
    "        self.style = style\n",
    "    \n",
    "    # method1\n",
    "    def showDescription(self):\n",
    "        print(\"this car is a \", self.color, self.style)\n",
    "\n",
    "    # method2\n",
    "    def changeColor(self, color):\n",
    "        self.color = color\n",
    "\n",
    "c = Car(style='Sedan', color='Black')\n",
    "\n",
    "print(c.style)\n",
    "print(c.color)\n",
    "\n",
    "c.style = 'SUV'\n",
    "print(c.style)\n",
    "\n",
    "c.showDescription()\n",
    "c.changeColor('White')\n",
    "\n",
    "c.showDescription()\n",
    "\n",
    "del c"
   ]
  },
  {
   "cell_type": "markdown",
   "metadata": {},
   "source": [
    "## Inheritance"
   ]
  },
  {
   "cell_type": "code",
   "execution_count": null,
   "metadata": {},
   "outputs": [],
   "source": [
    "class Vehicle():\n",
    "    def __init__(self, color) -> None:\n",
    "        self.color = color\n",
    "    def description(self):\n",
    "        print(\"I am a Vehicle!\")\n",
    "\n",
    "class Car(Vehicle):\n",
    "    def __init__(self, color, style) -> None:\n",
    "        self.style = style\n",
    "        super().__init__(color)\n",
    "    def description(self):\n",
    "        print(\"I am a\", self.color, self.style)\n",
    "    def setSpeed(self, speed):\n",
    "        print(\"Now traveling at\", speed, 'miles per hour')\n",
    "\n",
    "v = Vehicle('Red')\n",
    "c = Car('Black', 'SUV')\n",
    "\n",
    "v.description()\n",
    "c.description()\n",
    "\n",
    "c.setSpeed(26)"
   ]
  },
  {
   "cell_type": "code",
   "execution_count": null,
   "metadata": {},
   "outputs": [],
   "source": [
    "class GroundVehicle():\n",
    "    def drive(self):\n",
    "        print(\"drive me on the road!\")\n",
    "\n",
    "class FlyingVehicle():\n",
    "    def fly(self):\n",
    "        print(\"fly me to the sky!\")\n",
    "\n",
    "class FlyingCar(GroundVehicle, FlyingVehicle):\n",
    "    pass\n",
    "\n",
    "fc = FlyingCar()\n",
    "\n",
    "fc.drive()\n",
    "fc.fly()"
   ]
  }
 ],
 "metadata": {
  "interpreter": {
   "hash": "593d114b5a37efc49ac6bd5496f0496027154ecfb36472b8cce6beb026f23cc8"
  },
  "kernelspec": {
   "display_name": "Python 3.9.6 64-bit",
   "language": "python",
   "name": "python3"
  },
  "language_info": {
   "codemirror_mode": {
    "name": "ipython",
    "version": 3
   },
   "file_extension": ".py",
   "mimetype": "text/x-python",
   "name": "python",
   "nbconvert_exporter": "python",
   "pygments_lexer": "ipython3",
   "version": "3.9.6"
  },
  "orig_nbformat": 4
 },
 "nbformat": 4,
 "nbformat_minor": 2
}
