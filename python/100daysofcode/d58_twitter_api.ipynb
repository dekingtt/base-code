{
 "cells": [
  {
   "cell_type": "code",
   "execution_count": null,
   "metadata": {},
   "outputs": [],
   "source": [
    "from collections import namedtuple, Counter\n",
    "import os\n",
    "import re\n",
    "\n",
    "import matplotlib.pyplot as plt\n",
    "import numpy as np\n",
    "from PIL import Image\n",
    "import tweepy\n",
    "from wordcloud import WordCloud, STOPWORDS\n",
    "\n",
    "Tweet = namedtuple('Tweet', 'id text created likes rts')\n",
    "\n",
    "TWITTER_ACCOUNT = 'pybites' #'earthmirhalo'\n",
    "TWITTER_KEY = os.environ['TWITTER_KEY']\n",
    "TWITTER_SECRET = os.environ['TWITTER_SECRET']\n",
    "TWITTER_ACCESS_TOKEN = os.environ['TWITTER_ACCESS_TOKEN']\n",
    "TWITTER_ACCESS_SECRET = os.environ['TWITTER_ACCESS_SECRET']\n"
   ]
  },
  {
   "cell_type": "code",
   "execution_count": null,
   "metadata": {},
   "outputs": [],
   "source": [
    "auth = tweepy.OAuthHandler(TWITTER_KEY, TWITTER_SECRET)\n",
    "auth.set_access_token(TWITTER_ACCESS_TOKEN, TWITTER_ACCESS_SECRET)\n",
    "api = tweepy.API(auth=auth)\n",
    "api"
   ]
  },
  {
   "cell_type": "code",
   "execution_count": null,
   "metadata": {},
   "outputs": [],
   "source": [
    "def get_tweets():\n",
    "    for tw in tweepy.Cursor(api.user_timeline, screen_name=TWITTER_ACCOUNT,\n",
    "                            exclude_replies=False, include_rts=True).items():\n",
    "        yield Tweet(tw.id, tw.text, tw.created_at, tw.favorite_count, tw.retweet_count)"
   ]
  },
  {
   "cell_type": "code",
   "execution_count": null,
   "metadata": {},
   "outputs": [],
   "source": [
    "tweets = list(get_tweets())"
   ]
  },
  {
   "cell_type": "code",
   "execution_count": null,
   "metadata": {},
   "outputs": [],
   "source": [
    "len(tweets)"
   ]
  },
  {
   "cell_type": "code",
   "execution_count": null,
   "metadata": {},
   "outputs": [],
   "source": [
    "excl_rts = [tweet for tweet in tweets if not tweet.text.startswith('RT')]\n",
    "top_10 = sorted(excl_rts, key=lambda tw: (tw.likes + tw.rts)/2, reverse=True)\n",
    "\n",
    "fmt = '{likes: <5} | {rts: <5} | {text}'\n",
    "print(fmt.format(likes='❤', rts='♺', text='✎'))\n",
    "print('-'*100)\n",
    "for tw in top_10:\n",
    "    print(fmt.format(likes=tw.likes, rts=tw.rts, text=tw.text.replace('\\n', ' ⏎ ')))"
   ]
  },
  {
   "cell_type": "code",
   "execution_count": null,
   "metadata": {},
   "outputs": [],
   "source": [
    "hashtag = re.compile(r'#[-_A-Za-z0-9]+')\n",
    "mention = re.compile(r'@[-_A-Za-z0-9]+')\n",
    "\n",
    "all_tweets = ' '.join([tw.text.lower() for tw in tweets])\n",
    "all_tweets_excl_rt = ' '.join([tw.text.lower() for te in tweets if not tw.text.startswith('RT')])\n",
    "\n",
    "hashtags = hashtag.findall(all_tweets)\n",
    "cnt = Counter(hashtags)\n",
    "cnt.most_common(20)"
   ]
  },
  {
   "cell_type": "code",
   "execution_count": null,
   "metadata": {},
   "outputs": [],
   "source": [
    "mentions = mention.findall(all_tweets)\n",
    "cnt = Counter(mentions)\n",
    "cnt.most_common(15)"
   ]
  },
  {
   "cell_type": "code",
   "execution_count": null,
   "metadata": {},
   "outputs": [],
   "source": [
    "mentions = mention.findall(all_tweets_excl_rt)\n",
    "cnt = Counter(mentions)\n",
    "cnt.most_common(15)"
   ]
  },
  {
   "cell_type": "code",
   "execution_count": null,
   "metadata": {},
   "outputs": [],
   "source": [
    "all_tweets_excl_rts_mentions = ' '.join([tw.text.lower() for tw in tweets \n",
    "                                        if not tw.text.startswith('RT') and not tw.text.startswith('@')])"
   ]
  },
  {
   "cell_type": "code",
   "execution_count": null,
   "metadata": {},
   "outputs": [],
   "source": [
    "pb_mask = np.array(Image.open(\"pybites.png\"))\n",
    "stopwords = set(STOPWORDS)\n",
    "\n",
    "stopwords.add('co')\n",
    "stopwords.add('https')\n",
    "\n",
    "wc = WordCloud(background_color=\"white\", max_words=2000, mask=pb_mask,\n",
    "               stopwords=stopwords)\n",
    "\n",
    "wc.generate(all_tweets_excl_rts_mentions)"
   ]
  },
  {
   "cell_type": "code",
   "execution_count": null,
   "metadata": {},
   "outputs": [],
   "source": [
    "plt.figure(figsize=(15, 15))\n",
    "plt.imshow(wc, interpolation=\"bilinear\")\n",
    "plt.margins(x=0, y=0)\n",
    "plt.axis(\"off\")"
   ]
  }
 ],
 "metadata": {
  "interpreter": {
   "hash": "593d114b5a37efc49ac6bd5496f0496027154ecfb36472b8cce6beb026f23cc8"
  },
  "kernelspec": {
   "display_name": "Python 3.9.6 64-bit",
   "language": "python",
   "name": "python3"
  },
  "language_info": {
   "codemirror_mode": {
    "name": "ipython",
    "version": 3
   },
   "file_extension": ".py",
   "mimetype": "text/x-python",
   "name": "python",
   "nbconvert_exporter": "python",
   "pygments_lexer": "ipython3",
   "version": "3.9.6"
  },
  "orig_nbformat": 4
 },
 "nbformat": 4,
 "nbformat_minor": 2
}
