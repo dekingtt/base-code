{
 "cells": [
  {
   "cell_type": "code",
   "execution_count": null,
   "metadata": {},
   "outputs": [],
   "source": [
    "from collections import Counter\n",
    "from datetime import datetime, timedelta\n",
    "import re\n",
    "\n",
    "import feedparser\n",
    "import plotly\n",
    "import plotly.graph_objs as go\n",
    "\n",
    "blog_feed = feedparser.parse('http://projects.bobbelderbos.com/pcc/dates/all.rss.xml')\n",
    "entries = blog_feed['entries']\n",
    "\n",
    "from pprint import pprint as pp\n",
    "pp(entries[0])"
   ]
  },
  {
   "cell_type": "code",
   "execution_count": null,
   "metadata": {},
   "outputs": [],
   "source": [
    "def get_year_month(date_str):\n",
    "    date_str = date_str.split('+')[0].strip()\n",
    "    dt = datetime.strptime(date_str, \"%a, %d %b %Y %H:%M:%S\")\n",
    "    return f'{dt.year}-{dt.month}'\n",
    "\n",
    "yymm = get_year_month('Sun, 07 Jan 2018 12:00:00 +0100')\n",
    "yymm"
   ]
  },
  {
   "cell_type": "code",
   "execution_count": null,
   "metadata": {},
   "outputs": [],
   "source": [
    "def get_category(link):\n",
    "    known = dict(codechallenge='chanllenge',\n",
    "    twitter='news',\n",
    "    special='special', guest='guest')\n",
    "\n",
    "    default = 'article'\n",
    "    category = re.sub(r'.*\\.es/([a-z]+).*', r'\\1', link)\n",
    "    return known.get(category) or default\n",
    "\n"
   ]
  },
  {
   "cell_type": "code",
   "execution_count": null,
   "metadata": {},
   "outputs": [],
   "source": [
    "pub_dates = [get_year_month(entry.published) for entry in entries]\n",
    "posts_by_month = Counter(pub_dates)\n",
    "posts_by_month"
   ]
  },
  {
   "cell_type": "code",
   "execution_count": null,
   "metadata": {},
   "outputs": [],
   "source": [
    "categories = [get_category(entry.link) for entry in entries]\n",
    "cnt = Counter(categories)\n",
    "categories = cnt.most_common()\n",
    "categories"
   ]
  },
  {
   "cell_type": "code",
   "execution_count": null,
   "metadata": {},
   "outputs": [],
   "source": [
    "tags = [tag.term.lower() for entry in entries for tag in entry.tags]\n",
    "cnt = Counter(tags)\n",
    "top_tags = cnt.most_common(20)\n",
    "top_tags[:5]"
   ]
  },
  {
   "cell_type": "code",
   "execution_count": null,
   "metadata": {},
   "outputs": [],
   "source": [
    "def transpose_list_of_tuples(data):\n",
    "    if isinstance(data, dict):\n",
    "        data = data.items()\n",
    "    transposed = list(zip(*data))\n",
    "    return transposed\n",
    "\n",
    "transpose_list_of_tuples(posts_by_month)"
   ]
  },
  {
   "cell_type": "code",
   "execution_count": null,
   "metadata": {},
   "outputs": [],
   "source": [
    "x, y = transpose_list_of_tuples(posts_by_month)\n",
    "data = [go.Bar(x=x, y=y)]\n",
    "plotly.offline.iplot(data, filename='post-frequency')"
   ]
  },
  {
   "cell_type": "code",
   "execution_count": null,
   "metadata": {},
   "outputs": [],
   "source": [
    "labels, values = transpose_list_of_tuples(categories)\n",
    "pie = go.Pie(labels=labels, values=values)\n",
    "plotly.offline.iplot([pie], filename=\"categories\")"
   ]
  },
  {
   "cell_type": "code",
   "execution_count": null,
   "metadata": {},
   "outputs": [],
   "source": [
    "labels, values = transpose_list_of_tuples(top_tags)\n",
    "tags = go.Pie(labels=labels, values=values)\n",
    "plotly.offline.iplot([tags], filename='tags')"
   ]
  }
 ],
 "metadata": {
  "interpreter": {
   "hash": "593d114b5a37efc49ac6bd5496f0496027154ecfb36472b8cce6beb026f23cc8"
  },
  "kernelspec": {
   "display_name": "Python 3.9.6 64-bit",
   "language": "python",
   "name": "python3"
  },
  "language_info": {
   "codemirror_mode": {
    "name": "ipython",
    "version": 3
   },
   "file_extension": ".py",
   "mimetype": "text/x-python",
   "name": "python",
   "nbconvert_exporter": "python",
   "pygments_lexer": "ipython3",
   "version": "3.9.6"
  },
  "orig_nbformat": 4
 },
 "nbformat": 4,
 "nbformat_minor": 2
}
