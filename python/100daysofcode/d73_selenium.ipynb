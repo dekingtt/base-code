{
 "cells": [
  {
   "cell_type": "code",
   "execution_count": null,
   "metadata": {},
   "outputs": [],
   "source": [
    "from selenium import webdriver\n",
    "from selenium.webdriver.common.keys import Keys\n",
    "\n",
    "driver = webdriver.Chrome()  # replaced Firefox by Chrome\n",
    "driver.get(\"http://www.python.org\")\n",
    "assert \"Python\" in driver.title\n",
    "elem = driver.find_element_by_name(\"q\")\n",
    "elem.clear()\n",
    "elem.send_keys(\"pycon\")\n",
    "elem.send_keys(Keys.RETURN)\n",
    "assert \"No results found.\" not in driver.page_source\n",
    "driver.close()"
   ]
  },
  {
   "cell_type": "markdown",
   "metadata": {},
   "source": [
    "# Example 1. Packt ebook manager"
   ]
  },
  {
   "cell_type": "code",
   "execution_count": null,
   "metadata": {},
   "outputs": [],
   "source": [
    "user = 'cohaki2688@slvlog.com'\n",
    "pw = 'MdY3ywE2Mg1LDFZY90bo'"
   ]
  },
  {
   "cell_type": "code",
   "execution_count": null,
   "metadata": {},
   "outputs": [],
   "source": [
    "login = 'http://www.packtpub.com/login'\n",
    "driver = webdriver.Chrome()\n",
    "driver.get(url=login)\n",
    "\n",
    "driver.find_element_by_name('email').send_keys(user)\n",
    "driver.find_element_by_name('password').send_keys(pw+Keys.RETURN)"
   ]
  },
  {
   "cell_type": "code",
   "execution_count": null,
   "metadata": {},
   "outputs": [],
   "source": [
    "driver.find_element_by_link_text(\"My Owned Products\").click()"
   ]
  },
  {
   "cell_type": "code",
   "execution_count": null,
   "metadata": {},
   "outputs": [],
   "source": [
    "elements = driver.find_elements_by_class_name(\"title\")\n",
    "books = [e.text for e in elements]\n",
    "books\n",
    "driver.close()"
   ]
  },
  {
   "cell_type": "code",
   "execution_count": null,
   "metadata": {},
   "outputs": [],
   "source": [
    "import re\n",
    "\n",
    "DOWNLOAD_URL = 'https://www.packtpub.com/ebook_download/{nid}/{ebook_format}'\n",
    "BOOK_FORMATS = 'pdf epub mobi'\n",
    "\n",
    "def get_books(grep, ebook_format):\n",
    "    \"\"\"Receives a grep regex and book format (epub, pdf, mobi)\n",
    "       and prints the titles + urls of matching ebooks\"\"\"\n",
    "    grep = grep.lower()\n",
    "    ebook_format = ebook_format.lower()\n",
    "    if ebook_format not in BOOK_FORMATS.split():\n",
    "        raise ValueError(f'Not a valid book format (valid are: {BOOK_FORMATS})')\n",
    "        \n",
    "    for nid, title in books.items():\n",
    "        if re.search(grep, title.lower()):\n",
    "            url = DOWNLOAD_URL.format(nid=nid, ebook_format=ebook_format)\n",
    "            print(title, url)"
   ]
  },
  {
   "cell_type": "code",
   "execution_count": null,
   "metadata": {},
   "outputs": [],
   "source": [
    "get_books('python.*data', 'mobi')"
   ]
  },
  {
   "cell_type": "markdown",
   "metadata": {},
   "source": [
    "# Example 2. autocreate a PyBites banner"
   ]
  },
  {
   "cell_type": "code",
   "execution_count": null,
   "metadata": {},
   "outputs": [],
   "source": []
  }
 ],
 "metadata": {
  "interpreter": {
   "hash": "593d114b5a37efc49ac6bd5496f0496027154ecfb36472b8cce6beb026f23cc8"
  },
  "kernelspec": {
   "display_name": "Python 3.9.6 64-bit",
   "language": "python",
   "name": "python3"
  },
  "language_info": {
   "codemirror_mode": {
    "name": "ipython",
    "version": 3
   },
   "file_extension": ".py",
   "mimetype": "text/x-python",
   "name": "python",
   "nbconvert_exporter": "python",
   "pygments_lexer": "ipython3",
   "version": "3.9.6"
  },
  "orig_nbformat": 4
 },
 "nbformat": 4,
 "nbformat_minor": 2
}
