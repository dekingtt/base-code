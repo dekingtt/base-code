{
 "cells": [
  {
   "cell_type": "code",
   "execution_count": null,
   "metadata": {},
   "outputs": [],
   "source": [
    "from collections import namedtuple\n",
    "import os\n",
    "\n",
    "from github import Github, InputFileContent"
   ]
  },
  {
   "cell_type": "code",
   "execution_count": null,
   "metadata": {},
   "outputs": [],
   "source": [
    "gh = Github()\n",
    "gh"
   ]
  },
  {
   "cell_type": "code",
   "execution_count": null,
   "metadata": {},
   "outputs": [],
   "source": [
    "gh.rate_limiting"
   ]
  },
  {
   "cell_type": "code",
   "execution_count": null,
   "metadata": {},
   "outputs": [],
   "source": [
    "pb = gh.get_user('pybites')"
   ]
  },
  {
   "cell_type": "code",
   "execution_count": null,
   "metadata": {},
   "outputs": [],
   "source": [
    "pb"
   ]
  },
  {
   "cell_type": "code",
   "execution_count": null,
   "metadata": {},
   "outputs": [],
   "source": [
    "help(pb)"
   ]
  },
  {
   "cell_type": "code",
   "execution_count": null,
   "metadata": {},
   "outputs": [],
   "source": [
    "dir(pb)"
   ]
  },
  {
   "cell_type": "code",
   "execution_count": null,
   "metadata": {},
   "outputs": [],
   "source": [
    "pb.get_repos()"
   ]
  },
  {
   "cell_type": "code",
   "execution_count": null,
   "metadata": {},
   "outputs": [],
   "source": [
    "Repo = namedtuple(\"Repo\", 'name stars forks')"
   ]
  },
  {
   "cell_type": "code",
   "execution_count": null,
   "metadata": {},
   "outputs": [],
   "source": [
    "def get_repo_stats(user, n=5):\n",
    "    repos = []\n",
    "    for repo in user.get_repos():\n",
    "        if repo.fork:\n",
    "            continue\n",
    "            \n",
    "        repos.append(Repo(name=repo.name, \n",
    "            stars=repo.stargazers_count, \n",
    "            forks=repo.forks_count))\n",
    "    return sorted(repos, key=lambda x: x.stars, reverse=True)[:n]"
   ]
  },
  {
   "cell_type": "code",
   "execution_count": null,
   "metadata": {},
   "outputs": [],
   "source": [
    "get_repo_stats(pb)"
   ]
  },
  {
   "cell_type": "code",
   "execution_count": null,
   "metadata": {},
   "outputs": [],
   "source": [
    "mk = gh.get_user('dekingtt')\n",
    "get_repo_stats(mk)"
   ]
  },
  {
   "cell_type": "code",
   "execution_count": null,
   "metadata": {},
   "outputs": [],
   "source": [
    "token = os.environ['GH_GIST_CREATE_TOKEN']"
   ]
  },
  {
   "cell_type": "code",
   "execution_count": null,
   "metadata": {},
   "outputs": [],
   "source": [
    "gh = Github(token)\n",
    "gh"
   ]
  },
  {
   "cell_type": "code",
   "execution_count": null,
   "metadata": {},
   "outputs": [],
   "source": [
    "gh.rate_limiting"
   ]
  },
  {
   "cell_type": "code",
   "execution_count": null,
   "metadata": {},
   "outputs": [],
   "source": [
    "me = gh.get_user()\n",
    "me"
   ]
  },
  {
   "cell_type": "code",
   "execution_count": null,
   "metadata": {},
   "outputs": [],
   "source": [
    "code = '''\n",
    "from collections import namedtuple\n",
    "\n",
    "Repo = namedtuple('Repo', 'name stars forks')\n",
    "\n",
    "\n",
    "def get_repo_stats(user, n=5):\n",
    "    \"\"\"Takes a Github user object and returns the top n most popular repos by star count,\n",
    "       skips forks.\"\"\"\n",
    "    repos = []\n",
    "    for repo in user.get_repos():\n",
    "        if repo.fork:\n",
    "            continue\n",
    "\n",
    "        repos.append(Repo(name=repo.name,\n",
    "                          stars=repo.stargazers_count,\n",
    "                          forks=repo.forks_count))\n",
    "        \n",
    "    return sorted(repos, key=lambda x: x.stars, reverse=True)[:n]\n",
    "'''\n",
    "\n",
    "me.create_gist(True, \n",
    "      {'repo-stats.py': InputFileContent(code)},\n",
    "      \"Get GH user's most popular repos\"  )"
   ]
  },
  {
   "cell_type": "markdown",
   "metadata": {},
   "source": [
    "# Using pdb to inspect GH objects"
   ]
  },
  {
   "cell_type": "code",
   "execution_count": null,
   "metadata": {},
   "outputs": [],
   "source": [
    "for gist in gh.get_user('dekingtt').get_gists():\n",
    "    print(f'{gist.description} ({gist.created_at})')\n",
    "    print(f'https://gist.github.com/{gist.id}')\n",
    "    # import pdb; pdb.set_trace()\n",
    "\n"
   ]
  },
  {
   "cell_type": "code",
   "execution_count": null,
   "metadata": {},
   "outputs": [],
   "source": []
  }
 ],
 "metadata": {
  "interpreter": {
   "hash": "593d114b5a37efc49ac6bd5496f0496027154ecfb36472b8cce6beb026f23cc8"
  },
  "kernelspec": {
   "display_name": "Python 3.9.6 64-bit",
   "language": "python",
   "name": "python3"
  },
  "language_info": {
   "codemirror_mode": {
    "name": "ipython",
    "version": 3
   },
   "file_extension": ".py",
   "mimetype": "text/x-python",
   "name": "python",
   "nbconvert_exporter": "python",
   "pygments_lexer": "ipython3",
   "version": "3.9.6"
  },
  "orig_nbformat": 4
 },
 "nbformat": 4,
 "nbformat_minor": 2
}
