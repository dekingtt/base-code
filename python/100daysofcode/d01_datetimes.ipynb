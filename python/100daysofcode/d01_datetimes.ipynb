{
 "cells": [
  {
   "cell_type": "code",
   "execution_count": null,
   "metadata": {},
   "outputs": [],
   "source": [
    "from datetime import date\n",
    "from datetime import datetime\n",
    "\n",
    "datetime.today()\n",
    "\n",
    "today = datetime.today()\n",
    "type(today)\n",
    "\n",
    "today_date = date.today()\n",
    "today_date\n",
    "\n",
    "type(today_date)\n",
    "\n",
    "today_date.month\n",
    "today_date.year\n",
    "today_date.day\n",
    "\n",
    "christmas = date(today_date.year, 12, 25)\n",
    "christmas\n",
    "\n",
    "if christmas != today_date:\n",
    "    print(\"Sorry, there are still \" + str((christmas-today_date).days) + \" untill Christmas!\")\n",
    "else:\n",
    "    print(\"Yay it's Christmas!\")"
   ]
  },
  {
   "cell_type": "code",
   "execution_count": null,
   "metadata": {},
   "outputs": [],
   "source": [
    "from datetime import timedelta\n",
    "t = timedelta(days=4, hours=10)\n",
    "\n",
    "t.days\n",
    "t.seconds\n",
    "t.seconds/60/60\n",
    "\n",
    "eta = timedelta(hours=6)\n",
    "today = datetime.today()\n",
    "\n",
    "today\n",
    "\n",
    "today+eta\n",
    "\n",
    "str(today + eta)\n"
   ]
  }
 ],
 "metadata": {
  "interpreter": {
   "hash": "593d114b5a37efc49ac6bd5496f0496027154ecfb36472b8cce6beb026f23cc8"
  },
  "kernelspec": {
   "display_name": "Python 3.9.6 64-bit",
   "language": "python",
   "name": "python3"
  },
  "language_info": {
   "codemirror_mode": {
    "name": "ipython",
    "version": 3
   },
   "file_extension": ".py",
   "mimetype": "text/x-python",
   "name": "python",
   "nbconvert_exporter": "python",
   "pygments_lexer": "ipython3",
   "version": "3.9.6"
  },
  "orig_nbformat": 4
 },
 "nbformat": 4,
 "nbformat_minor": 2
}
